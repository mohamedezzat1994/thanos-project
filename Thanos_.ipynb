{
 "cells": [
  {
   "cell_type": "markdown",
   "metadata": {},
   "source": [
    "<img src=\"thanos.jpg\">"
   ]
  },
  {
   "cell_type": "markdown",
   "metadata": {},
   "source": [
    "# Thanos Project\n",
    "\n",
    "##### Thanos has aqcuired the infinity gauntlet, and with one snap of his fingers he will kill half the people in the universe. For this project, you need to create the following functions:\n",
    "\n",
    "1. `get_universe_people`: This function returns a list of the name of the people (files) in `universe` folder\n",
    "2. `kill_person`: This function takes as input the name of the person (file) and kills them (deletes it) \n",
    "3. `thanos_snap`: This function calculates the number of the people (files) in the `universe` folder and kills them (deletes them)\n",
    "\n",
    "Test your functions using the necessary code and run the thanos snap. Validate that half the population is dead!"
   ]
  },
  {
   "cell_type": "code",
   "execution_count": null,
   "metadata": {},
   "outputs": [],
   "source": []
  }
 ],
 "metadata": {
  "interpreter": {
   "hash": "911cfdf4ee29fcb964d36255e478fd122ddd7ef148a5798ecfb832de08390f17"
  },
  "kernelspec": {
   "display_name": "Python 3.9.6 64-bit",
   "language": "python",
   "name": "python3"
  },
  "language_info": {
   "codemirror_mode": {
    "name": "ipython",
    "version": 3
   },
   "file_extension": ".py",
   "mimetype": "text/x-python",
   "name": "python",
   "nbconvert_exporter": "python",
   "pygments_lexer": "ipython3",
   "version": "3.9.6"
  },
  "orig_nbformat": 4
 },
 "nbformat": 4,
 "nbformat_minor": 2
}
